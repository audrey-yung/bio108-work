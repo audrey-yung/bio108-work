{
  "nbformat": 4,
  "nbformat_minor": 0,
  "metadata": {
    "colab": {
      "provenance": [],
      "mount_file_id": "1olT5A82T9TYfVhTaPBJNdwY7JcmiCxiO",
      "authorship_tag": "ABX9TyN9jb7Xz/y273FiN39A78i/",
      "include_colab_link": true
    },
    "kernelspec": {
      "name": "python3",
      "display_name": "Python 3"
    },
    "language_info": {
      "name": "python"
    }
  },
  "cells": [
    {
      "cell_type": "markdown",
      "metadata": {
        "id": "view-in-github",
        "colab_type": "text"
      },
      "source": [
        "<a href=\"https://colab.research.google.com/github/audrey-yung/bio108-work/blob/main/mapping_exercise.ipynb\" target=\"_parent\"><img src=\"https://colab.research.google.com/assets/colab-badge.svg\" alt=\"Open In Colab\"/></a>"
      ]
    },
    {
      "cell_type": "markdown",
      "source": [
        "# Using existing literature to enhance  [`timeseries_demo.ipynb`](https://github.com/audrey-yung/bio108-work/blob/main/timeseries_data_demo.ipynb)\n",
        "\n",
        "In this notebook, I will some of the visuals from the research article [*Changes in plant species richness distribution in Tibetan alpine grasslands under different precipitation scenarios*](https://www.sciencedirect.com/science/article/pii/S2351989419303427), published in March 2020 by Li et al.\n",
        "\n",
        "This study sought to learn more about how species richness in the Tibetan Plateau, at a broad scale, could change under different precipitation scenarios under climate change. More specifically, the authors wanted to 1) determine where alpine grasses are sensitive to summer precipitation change and what types of communities they are, 2) assess how many alpine grasslands would have clear change in species richness in different summer precipiation scenarios, and 3) test whether the species richness of low-elevation alpine grasslands are more sensitive than that of high-elevation grasslands.\n",
        "\n",
        "Broadly, the study found that species richness in response to different precipiation scenarios was grassland-type specific, where meadows were sensitive to decreasing precipiatation, steppes being sensitive to increasing precipitation, and deserts maintaining relative stability throughout various scenarios.\n",
        "\n",
        "For this exercise, I will draw inspiration from the first research question -- I want my finished tutorial to produce a complex visual that combines habitat type, precipitation data, and species richness data for Southern California and/or San Bernardino."
      ],
      "metadata": {
        "id": "-9ZTrPEBwsFk"
      }
    },
    {
      "cell_type": "code",
      "source": [
        "### install rasterio library (doesnt exist in colab python environment)\n",
        "! pip install rasterio fiona"
      ],
      "metadata": {
        "id": "8iDmtde-BYIL"
      },
      "execution_count": null,
      "outputs": []
    },
    {
      "cell_type": "code",
      "source": [
        "# importing libraries to allow me to perform different geospatial tasks\n",
        "import rasterio\n",
        "import rasterio.plot\n",
        "import geopandas as gpd\n",
        "import numpy as np\n",
        "import matplotlib.pyplot as plt\n",
        "\n",
        "# importing libraries to scrape web data\n",
        "# import requests\n",
        "import zipfile\n",
        "from pathlib import Path\n",
        "\n",
        "# importing libraries to idk\n",
        "import os\n",
        "import io"
      ],
      "metadata": {
        "id": "8h5hS6eeAZUc"
      },
      "execution_count": 14,
      "outputs": []
    },
    {
      "cell_type": "code",
      "source": [
        "# mount google drive\n",
        "from google.colab import files"
      ],
      "metadata": {
        "id": "x3hpiQUXEwu-"
      },
      "execution_count": 12,
      "outputs": []
    },
    {
      "cell_type": "code",
      "execution_count": 4,
      "metadata": {
        "id": "1C_-i9QFZkvb"
      },
      "outputs": [],
      "source": [
        "# species richness link https://biodiversitymapping.org/wp-content/uploads/2019/03/biodiversitymapping_website_downloadable_2019_03d14.zip\n",
        "# CA vegetation by wildlife habitat relationship type 2022 link https://34c031f8-c9fd-4018-8c5a-4159cdff6b0d-cdn-endpoint.azureedge.net/-/media/calfire-website/what-we-do/fire-resource-assessment-program---frap/gis-data/fveg221gdb.zip?rev=d7c66902bb404223b1a1a0e3e7cc66f8&hash=B7EE3663C90EB92B07EB7DF4E9C509A3"
      ]
    },
    {
      "cell_type": "code",
      "source": [
        "veg_path = \"/content/drive/MyDrive/scripps/year 4/spring 2025/CA_vegetation.zip\""
      ],
      "metadata": {
        "id": "sKCpgBDpGo5v"
      },
      "execution_count": 16,
      "outputs": []
    },
    {
      "cell_type": "code",
      "source": [
        "# creating a directory to store unzipped content\n",
        "visuals_dir = \"/content/unzipped\"\n",
        "os.makedirs(visuals_dir, exist_ok=True)"
      ],
      "metadata": {
        "id": "wkwJ9T4wA9Fe"
      },
      "execution_count": 17,
      "outputs": []
    },
    {
      "cell_type": "code",
      "source": [
        "# unzip the downloaded file (veg_response)\n",
        "with zipfile.ZipFile(Path(veg_path)) as zip_file:\n",
        "  # Extract all of the files to the ebird_dir\n",
        "  zip_file.extractall(visuals_dir)"
      ],
      "metadata": {
        "id": "rSUtUuTfEJE6"
      },
      "execution_count": 18,
      "outputs": []
    },
    {
      "cell_type": "markdown",
      "source": [
        "I tried figuring out how to work with `.spx` files because we didnt cover it in class and I came upon a few links:\n",
        "\n",
        "[.spx File Extension](https://www.file-extensions.org/spx-file-extension-arcgis-geodatabase-spx-data\n",
        ")\n",
        "\n",
        "Found that it is a type of GIS file. Can be opened with ArcGIS API\n",
        "\n",
        "[ArcGIS API for Python: Google Colaboratory](https://developers.arcgis.com/python/latest/guide/install-and-set-up/google-colab/)"
      ],
      "metadata": {
        "id": "TIspelylJ8k1"
      }
    },
    {
      "cell_type": "code",
      "source": [
        "!pip install arcgis"
      ],
      "metadata": {
        "colab": {
          "base_uri": "https://localhost:8080/"
        },
        "id": "kq3wMpLFMs_C",
        "outputId": "5531a9e6-65a7-46e1-b199-706ba7b86234"
      },
      "execution_count": 32,
      "outputs": [
        {
          "output_type": "stream",
          "name": "stdout",
          "text": [
            "Collecting arcgis\n",
            "  Downloading arcgis-2.4.0.tar.gz (46.8 MB)\n",
            "\u001b[2K     \u001b[90m━━━━━━━━━━━━━━━━━━━━━━━━━━━━━━━━━━━━━━━━\u001b[0m \u001b[32m46.8/46.8 MB\u001b[0m \u001b[31m14.6 MB/s\u001b[0m eta \u001b[36m0:00:00\u001b[0m\n",
            "\u001b[?25h  Preparing metadata (setup.py) ... \u001b[?25l\u001b[?25hcanceled\u001b[31mERROR: Operation cancelled by user\u001b[0m\u001b[31m\n",
            "\u001b[0m"
          ]
        }
      ]
    },
    {
      "cell_type": "code",
      "source": [
        "# Find all files with .spx extensions recursively\n",
        "file_paths = list(Path(visuals_dir).rglob(\"*.spx\"))\n",
        "\n",
        "# Print the file paths\n",
        "print(\"Found files:\")\n",
        "for path in file_paths:\n",
        "    print(path)"
      ],
      "metadata": {
        "colab": {
          "base_uri": "https://localhost:8080/"
        },
        "id": "r90iEjpYEUv5",
        "outputId": "afacc469-e3a5-47bc-cd5b-3e5ec64f2135"
      },
      "execution_count": 29,
      "outputs": [
        {
          "output_type": "stream",
          "name": "stdout",
          "text": [
            "Found files:\n",
            "/content/unzipped/fveg22_1.gdb/a00000009.spx\n",
            "/content/unzipped/fveg22_1.gdb/a00000004.spx\n"
          ]
        }
      ]
    },
    {
      "cell_type": "code",
      "source": [
        "file_paths[0]"
      ],
      "metadata": {
        "colab": {
          "base_uri": "https://localhost:8080/"
        },
        "id": "QNdA8GorI6uD",
        "outputId": "c914e575-d04c-4358-94e8-1da29de9d903"
      },
      "execution_count": 30,
      "outputs": [
        {
          "output_type": "execute_result",
          "data": {
            "text/plain": [
              "PosixPath('/content/unzipped/fveg22_1.gdb/a00000009.spx')"
            ]
          },
          "metadata": {},
          "execution_count": 30
        }
      ]
    }
  ]
}
